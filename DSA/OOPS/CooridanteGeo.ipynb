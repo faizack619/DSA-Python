{
 "cells": [
  {
   "cell_type": "markdown",
   "metadata": {},
   "source": [
    "### Write OOP classes to handle the following scenarios:\n",
    "\n",
    "- A user can create and view 2D coordinates\n",
    "- A user can find out the distance between 2 coordinates\n",
    "- A user can find find the distance of a coordinate from origin\n",
    "- A user can check if a point lies on a given line\n",
    "- A user can find the distance between a given 2D point and a given line"
   ]
  },
  {
   "cell_type": "code",
   "execution_count": 125,
   "metadata": {},
   "outputs": [],
   "source": [
    "class point:\n",
    "\n",
    "    def __init__(self,Xaxis,Yaxis) -> None:\n",
    "\n",
    "        self.x=Xaxis\n",
    "        self.y=Yaxis\n",
    "\n",
    "    def __str__(self):\n",
    "        return \"({},{})\".format(self.x,self.y)\n",
    "\n",
    "    def EulidenDistance(self,other):\n",
    "\n",
    "        return ((other.x-self.x)**2+(other.y-self.y)**2)*0.5\n",
    "        \n",
    "    \n",
    "    def origin(self):\n",
    "        return (((self.x)**2+(self.y)**2)*0.5)\n",
    "       \n",
    "    pass"
   ]
  },
  {
   "cell_type": "code",
   "execution_count": 138,
   "metadata": {},
   "outputs": [],
   "source": [
    "class line:\n",
    "    def __init__(self,A,B,C) -> None:\n",
    "        self.a=A\n",
    "        self.b=B\n",
    "        self.c=C\n",
    "\n",
    "    def __str__(self) -> str:\n",
    "        return '{}x + {}y {} =0'.format(self.a,self.b,self.c)\n",
    "        pass\n",
    "\n",
    "    def pointline(self,point):\n",
    "        if (((self.a)*(point.x)) + ((self.b)*(point.y))) +self.c==0 :\n",
    "            return \"Line lies\"\n",
    "        else :\n",
    "         return \"Does not Line\"   \n",
    "\n",
    "    def lineIntersect(self,Line2):\n",
    "\n",
    "        pass\n",
    "    pass"
   ]
  },
  {
   "cell_type": "code",
   "execution_count": 139,
   "metadata": {},
   "outputs": [],
   "source": [
    "l1=line(1,2,-3)\n",
    "p1=point(1,1)"
   ]
  },
  {
   "cell_type": "code",
   "execution_count": 144,
   "metadata": {},
   "outputs": [
    {
     "name": "stdout",
     "output_type": "stream",
     "text": [
      "Equation : 1x + 2y -3 =0\n",
      "X-axis and Y-axis : (1,1)\n"
     ]
    }
   ],
   "source": [
    "print(\"Equation :\",l1)\n",
    "print(\"X-axis and Y-axis :\",p1)"
   ]
  },
  {
   "cell_type": "code",
   "execution_count": 143,
   "metadata": {},
   "outputs": [
    {
     "data": {
      "text/plain": [
       "'Line lies'"
      ]
     },
     "execution_count": 143,
     "metadata": {},
     "output_type": "execute_result"
    }
   ],
   "source": [
    "l1.pointline(p1)"
   ]
  },
  {
   "cell_type": "code",
   "execution_count": 95,
   "metadata": {},
   "outputs": [],
   "source": [
    "u1=point(3,4)"
   ]
  },
  {
   "cell_type": "code",
   "execution_count": 101,
   "metadata": {},
   "outputs": [],
   "source": [
    "u2=point(5,6)"
   ]
  },
  {
   "cell_type": "code",
   "execution_count": 102,
   "metadata": {},
   "outputs": [
    {
     "name": "stdout",
     "output_type": "stream",
     "text": [
      "(3,4)\n"
     ]
    }
   ],
   "source": [
    "print(u1)"
   ]
  },
  {
   "cell_type": "code",
   "execution_count": 103,
   "metadata": {},
   "outputs": [
    {
     "name": "stdout",
     "output_type": "stream",
     "text": [
      "Distance between two Coordinate : 4.0\n"
     ]
    }
   ],
   "source": [
    "print(\"Distance between two Coordinate :\",u1.EulidenDistance(u2))"
   ]
  },
  {
   "cell_type": "code",
   "execution_count": 104,
   "metadata": {},
   "outputs": [
    {
     "name": "stdout",
     "output_type": "stream",
     "text": [
      "Distance from Origin : 12.5\n"
     ]
    }
   ],
   "source": [
    "print(\"Distance from Origin :\",u1.origin())"
   ]
  }
 ],
 "metadata": {
  "kernelspec": {
   "display_name": "Python 3",
   "language": "python",
   "name": "python3"
  },
  "language_info": {
   "codemirror_mode": {
    "name": "ipython",
    "version": 3
   },
   "file_extension": ".py",
   "mimetype": "text/x-python",
   "name": "python",
   "nbconvert_exporter": "python",
   "pygments_lexer": "ipython3",
   "version": "3.10.5 (tags/v3.10.5:f377153, Jun  6 2022, 16:14:13) [MSC v.1929 64 bit (AMD64)]"
  },
  "orig_nbformat": 4,
  "vscode": {
   "interpreter": {
    "hash": "22a808f4f3bd653072ee6d4e7b6e42544d1d070f4df0d3b0f2273cf2017f4479"
   }
  }
 },
 "nbformat": 4,
 "nbformat_minor": 2
}
